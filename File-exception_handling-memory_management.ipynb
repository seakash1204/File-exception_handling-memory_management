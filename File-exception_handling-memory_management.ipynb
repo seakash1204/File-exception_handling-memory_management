{
 "cells": [
  {
   "cell_type": "markdown",
   "id": "fc05a551-8ffd-48d3-86a3-7af316892612",
   "metadata": {},
   "source": [
    "# Files, exceptional handling, logging and memory management Questions"
   ]
  },
  {
   "cell_type": "markdown",
   "id": "770eca2f-d809-4356-bcba-26bc9aa7e8bc",
   "metadata": {},
   "source": [
    "## Theory Questions and Answers"
   ]
  },
  {
   "cell_type": "markdown",
   "id": "67dc19a3-6353-485e-8ccb-589b61143824",
   "metadata": {},
   "source": [
    "#### Q. No 1. What is the difference between interpreted and compiled languages?"
   ]
  },
  {
   "cell_type": "raw",
   "id": "c72a7711-a6c4-4e68-9def-4c2ca90a567b",
   "metadata": {},
   "source": [
    "Ans : Interpreted language is the language in which code is translate and execute line by line during runtime,\n",
    "while compiled language translate the entire code into machine code before execution."
   ]
  },
  {
   "cell_type": "markdown",
   "id": "7fa3069d-cf18-4aac-91f6-1d0f8bdb049d",
   "metadata": {},
   "source": [
    "### Q. No. 2. What is exception handling in Python?"
   ]
  },
  {
   "cell_type": "raw",
   "id": "949b59a5-a806-4079-a3f6-1593781a5566",
   "metadata": {},
   "source": [
    "Ans : While writing a code in python, there could be some error due to any reason, and python executed the code line by line so if any error occurs then the program will be terminated. To handle this situation, means if a user is getting any error then we will show the error to him/her and program will continue to completed their execution.\n",
    "We can achieve this using try, except block."
   ]
  },
  {
   "cell_type": "markdown",
   "id": "c83adbf4-623f-441c-9b5e-35df440ce657",
   "metadata": {},
   "source": [
    "### Q. No. 3. What is the purpose of the finally block in exception handling?"
   ]
  },
  {
   "cell_type": "raw",
   "id": "6d61a832-0b6d-4f02-aab6-a1163141c35d",
   "metadata": {},
   "source": [
    "Ans : finally block is used to handle the exception in python, we use finally block after try, except, else block. It simply means whether my program will get any error or it will execute successfully, finally block will be executed in any case."
   ]
  },
  {
   "cell_type": "markdown",
   "id": "cd7e5c39-3ed2-4117-9d52-3446b1cfa1d3",
   "metadata": {},
   "source": [
    "### Q. No. 4. What is logging in Python?"
   ]
  },
  {
   "cell_type": "raw",
   "id": "aa0757d3-e5f4-4e3d-acc5-1adfaaf20f50",
   "metadata": {},
   "source": [
    "Ans : Logging in python is a way to track events that happens when some software runs. It is primarly used for debugging, monitoring and auditing"
   ]
  },
  {
   "cell_type": "markdown",
   "id": "8d216da4-8d8a-40fd-ade3-84eaf31abc47",
   "metadata": {},
   "source": [
    "### Q. No. 5. What is the significance of the __del__ method in Python?"
   ]
  },
  {
   "cell_type": "raw",
   "id": "9c475799-7936-4631-8be6-ac7cb000c043",
   "metadata": {},
   "source": [
    "Ans : The __del__ method is the destructor. It is called automatically when an object is about to be destroyed, it is used to clean up the resources that has been used by some other function/variable."
   ]
  },
  {
   "cell_type": "markdown",
   "id": "64e6cb58-b66e-4494-a388-2e6fd5ccc8ab",
   "metadata": {},
   "source": [
    "### Q. No. 6. What is the difference between import and from ... import in Python?"
   ]
  },
  {
   "cell_type": "raw",
   "id": "cc981f05-399f-4701-abb1-df0710e9aa63",
   "metadata": {},
   "source": [
    "Ans : They both are used to brind an external module or specific part of module.\n",
    "To import some specific function,classes or variable we used ... import, while when we want to import the entire module, the we use import."
   ]
  },
  {
   "cell_type": "markdown",
   "id": "4c8338ac-431b-44ed-b3a4-ac19b850a8f0",
   "metadata": {},
   "source": [
    "### Q. No. 7. How can you handle multiple exceptions in Python?"
   ]
  },
  {
   "cell_type": "raw",
   "id": "e3d68ce8-da16-4c74-915f-db9eab2ab318",
   "metadata": {},
   "source": [
    "Ans : By using the multiple except statement or using a single except statement and using the error that might occur seperated by comma in tuple "
   ]
  },
  {
   "cell_type": "markdown",
   "id": "15a3d1f8-2046-4610-9458-57b06c56da02",
   "metadata": {},
   "source": [
    "### Q. No. 8. What is the purpose of the with statement when handling files in Python?"
   ]
  },
  {
   "cell_type": "raw",
   "id": "1385ba93-775b-463f-bf99-f2b16bfc0fa3",
   "metadata": {},
   "source": [
    "Ans : while handling the file we first need to open the file, after opening the file we might sometime forget to close the file, closing the file is very importannt. We use with statement that will automatically close the file after using the file."
   ]
  },
  {
   "cell_type": "markdown",
   "id": "f7093b3a-7ddd-4814-b622-fbafcf9ec194",
   "metadata": {},
   "source": [
    "### Q. No. 9. What is the difference between multithreading and multiprocessing?"
   ]
  },
  {
   "cell_type": "raw",
   "id": "27aaffb2-55b3-4f49-b5ea-9207b8af994b",
   "metadata": {},
   "source": [
    "Ans : Multithreading runs multiple thread within the same process. Thread share the same memory. It is best for I/O bound tasks\n",
    "Multiprocessing runs multiple processs, each with own memory space. Processes do not share same memory. It is best for CPU-bound tasks"
   ]
  },
  {
   "cell_type": "markdown",
   "id": "b53aa500-83be-41f4-86a4-2bf04e0b1207",
   "metadata": {},
   "source": [
    "### Q. No. 10. What are the advantages of using logging in a program?"
   ]
  },
  {
   "cell_type": "raw",
   "id": "7f615a65-94d8-41a1-93fe-4a71c91dfae1",
   "metadata": {},
   "source": [
    "Ans : Logging helps track the flow of execution and the state of the variable. It makes it easier to trace bugs without stopping of pausing the program"
   ]
  },
  {
   "cell_type": "markdown",
   "id": "07b49b6d-9b72-4365-bab7-e043d1a372ae",
   "metadata": {},
   "source": [
    "### Q. No. 11. What is memory management in Python?"
   ]
  },
  {
   "cell_type": "raw",
   "id": "3ce4c8da-19aa-4d04-a551-01efaca5bd01",
   "metadata": {},
   "source": [
    "Ans : Memory management in Python refers to how Python allocates, manages, and frees memory while a program in running. Python handles most memory related operations automatically because of its built-in memory manager and garbage collector"
   ]
  },
  {
   "attachments": {},
   "cell_type": "markdown",
   "id": "c4aabfdc-929b-4b17-8647-7e583fd0c3b4",
   "metadata": {},
   "source": [
    "### Q. No. 12.  What are the basic steps involved in exception handling in Python?"
   ]
  },
  {
   "cell_type": "raw",
   "id": "ef422474-43b7-45f6-bbc3-b44cdc8d0dbe",
   "metadata": {},
   "source": [
    "Ans : There are four basic steps that is involved in exception handling\n",
    "(i) try\n",
    "(ii) except\n",
    "(iii) else\n",
    "(iv) finally"
   ]
  },
  {
   "cell_type": "markdown",
   "id": "9bed1e48-edb9-4774-ad42-9785c93fb9b6",
   "metadata": {},
   "source": [
    "### Q. No. 13.  Why is memory management important in Python?"
   ]
  },
  {
   "cell_type": "raw",
   "id": "89370400-7ebe-4308-865d-827d8c004ba8",
   "metadata": {},
   "source": [
    "Ans : Memory management is important in Python because it directly affects the performance, reliability and scalability of the applications."
   ]
  },
  {
   "cell_type": "markdown",
   "id": "f2d88826-540f-4bc3-bc7f-851f4d238e83",
   "metadata": {},
   "source": [
    "### Q. No. 14. What is the role of try and except in exception handling?"
   ]
  },
  {
   "cell_type": "raw",
   "id": "5133d274-b1ed-436e-97b6-6d220a20c6ff",
   "metadata": {},
   "source": [
    "Ans : try and except is used to handle any exception in python, we put the code that might get error while executing the code in the try block, and if the code gets the error then we accept the error in except block and show the message accordingly."
   ]
  },
  {
   "cell_type": "markdown",
   "id": "8f33ad0d-adef-498b-b40a-e9e31ac823c2",
   "metadata": {},
   "source": [
    "### Q. No. 15. How does Python's garbage collection system work?"
   ]
  },
  {
   "cell_type": "raw",
   "id": "f672d0e1-ec7e-4084-b6ed-67bc599debab",
   "metadata": {},
   "source": [
    "Ans : Python’s garbage collection system is responsible for automatically managing memory by reclaiming memory occupied by objects that are no longer needed. Every object in Python has a reference count—a counter of how many variables point to that object. When the reference count drops to zero, the object is immediately deallocated."
   ]
  },
  {
   "cell_type": "markdown",
   "id": "c0063f75-7d3f-43ab-885c-b38f92925766",
   "metadata": {},
   "source": [
    "### Q. No. 16. What is the purpose of the else block in exception handling?"
   ]
  },
  {
   "cell_type": "raw",
   "id": "fade7010-68b6-4414-8f0e-658e27d7f5ea",
   "metadata": {},
   "source": [
    "Ans : The else block in exception handling will only execute only if try block will be run successfully without occurring any error."
   ]
  },
  {
   "cell_type": "markdown",
   "id": "512ec098-689c-4314-b520-b49fee5ba4fb",
   "metadata": {},
   "source": [
    "### Q. No. 17. What are the common logging levels in Python?"
   ]
  },
  {
   "cell_type": "raw",
   "id": "7300da6d-527c-4497-8bf9-4080e13b5bce",
   "metadata": {},
   "source": [
    "Ans : There are 5 common logging levels in Python\n",
    "(1) DEBUG\n",
    "(2) INFO\n",
    "(3) WARNING\n",
    "(4) ERROR\n",
    "(5) CRITICAL "
   ]
  },
  {
   "cell_type": "markdown",
   "id": "a5e8ec50-1e08-46ab-bd60-c6b15f5f32b7",
   "metadata": {},
   "source": [
    "### Q. No. 18. What is the difference between os.fork() and multiprocessing in Python?"
   ]
  },
  {
   "cell_type": "raw",
   "id": "17b8366d-115b-4759-9cb0-a06a4defaf72",
   "metadata": {},
   "source": [
    "Ans : os.fork() is used to create a child process by duplicating the current process, it doesn't works on windows.\n",
    "Multiprocessing is a module in python, it is cross-platform, it is easier to use and more readable."
   ]
  },
  {
   "cell_type": "markdown",
   "id": "a82f3bbf-422f-4f88-93a4-0452a165f71e",
   "metadata": {},
   "source": [
    "### Q. No. 19.  What is the importance of closing a file in Python?"
   ]
  },
  {
   "cell_type": "raw",
   "id": "0bd66ce2-cccb-413a-9cf2-28263eb81144",
   "metadata": {},
   "source": [
    "Ans : Closing a file in Python is as important as opening the file and performing reading or writing task on that file. If we do not close the file and their might be some unexpected output or error occur which is not easy to understand."
   ]
  },
  {
   "cell_type": "markdown",
   "id": "c342b7a4-a6f2-4d76-9a45-6539d2b01dcf",
   "metadata": {},
   "source": [
    "### Q. No. 20. What is the difference between file.read() and file.readline() in Python?"
   ]
  },
  {
   "cell_type": "raw",
   "id": "09340cc4-8957-4be5-84a8-efbc075d2cab",
   "metadata": {},
   "source": [
    "Ans : file.read() is used when we want to read the entire file at once, while file.readline() is used when we want to read the file line by line, it depends on us how many line we want to read."
   ]
  },
  {
   "cell_type": "markdown",
   "id": "ff3fc51f-fc1c-4faf-a18e-d06273b994ac",
   "metadata": {},
   "source": [
    "### Q. No. 21. What is the logging module in Python used for?"
   ]
  },
  {
   "cell_type": "raw",
   "id": "83a1f7f2-b1f9-4008-83bf-8ea9bbeb7af2",
   "metadata": {},
   "source": [
    "Ans : The logging module in Python is used to record messages about your program’s execution. It allows you to track events, debug issues, and monitor the behavior of your application without using print() statements."
   ]
  },
  {
   "cell_type": "markdown",
   "id": "a21b4298-d544-4275-b4e5-08d6975610fe",
   "metadata": {},
   "source": [
    "### Q. No. 22. What is the os module in Python used for in file handling?"
   ]
  },
  {
   "cell_type": "raw",
   "id": "e09d0bda-de6b-435f-a55a-bab7d660866d",
   "metadata": {},
   "source": [
    "Ans : The os module in Python is used to interact with the operating system, and it plays a crucial role in file handling and directory operations. It allows you to perform low-level file and folder operations like creating, deleting, renaming, moving, and navigating files."
   ]
  },
  {
   "cell_type": "markdown",
   "id": "968d079d-5254-4bee-9bdf-6ea75268d395",
   "metadata": {},
   "source": [
    "### Q. No. 23. What are the challenges associated with memory management in Python?"
   ]
  },
  {
   "cell_type": "raw",
   "id": "0eaa3cc7-ceef-47d2-af2e-8958c72f6ff4",
   "metadata": {},
   "source": [
    "Ans : Few challenges associated with memory management are listed below\n",
    "(1) Memory Leak\n",
    "(2) Circular References\n",
    "(3) Unpredictable Garbage Collection\n",
    "(4) Global Interpreter Lock (GIL)\n",
    "(5) High memory usage with large objects"
   ]
  },
  {
   "cell_type": "markdown",
   "id": "843dea80-74f9-4221-9339-5287e414a896",
   "metadata": {},
   "source": [
    "### Q. No. 24. How do you raise an exception manually in Python?"
   ]
  },
  {
   "cell_type": "raw",
   "id": "233ee9b3-8914-40fa-a8e2-5d2eec5518a0",
   "metadata": {},
   "source": [
    "Ans : In Python, we can raise an exception manually using the raise keyword.\n",
    "Example \n",
    "age = -5\n",
    "if age < 0:\n",
    "    raise ValueError(\"Age cannot be negative\")"
   ]
  },
  {
   "cell_type": "markdown",
   "id": "266028cb-118e-4643-bd69-5cf4de48926a",
   "metadata": {},
   "source": [
    "### Q. No. 25. Why is it important to use multithreading in certain applications?"
   ]
  },
  {
   "cell_type": "raw",
   "id": "b4753c90-9fd0-4e6d-baa9-6012406d0383",
   "metadata": {},
   "source": [
    "Ans : Multithreading is important in applications that perform I/O-bound tasks like file access, web requests, or user interaction, as it allows multiple operations to run concurrently without blocking the main thread. This improves responsiveness, especially in GUI or server applications, and makes better use of system resources during idle times. It's lightweight compared to multiprocessing and enables smoother, faster user experiences."
   ]
  },
  {
   "cell_type": "markdown",
   "id": "461b0881-970c-4e3d-8fd6-6445c86200d9",
   "metadata": {},
   "source": []
  },
  {
   "cell_type": "markdown",
   "id": "80f82a8b-0e28-48d4-99ad-7c3c31835b31",
   "metadata": {},
   "source": [
    "## Practical Questions and Answers"
   ]
  },
  {
   "cell_type": "markdown",
   "id": "440292cb-002d-48ae-bef8-a5da1ea1c526",
   "metadata": {},
   "source": [
    "#### Q. No. 1. How can you open a file for writing in Python and write a string to it?"
   ]
  },
  {
   "cell_type": "code",
   "execution_count": 1,
   "id": "aca37ecb-6514-402e-914c-f84803482107",
   "metadata": {},
   "outputs": [],
   "source": [
    "file = open(\"temp.txt\", 'w')\n",
    "file.write(\"This is temporary file\")\n",
    "file.close()"
   ]
  },
  {
   "cell_type": "markdown",
   "id": "1885220c-c133-4356-8096-ea3e56a93ef5",
   "metadata": {},
   "source": [
    "#### Q. No. 2. Write a Python program to read the contents of a file and print each line"
   ]
  },
  {
   "cell_type": "code",
   "execution_count": 12,
   "id": "7655d44d-d874-4cd9-9a15-fd6a319bbca8",
   "metadata": {},
   "outputs": [
    {
     "data": {
      "text/plain": [
       "['This is temporary file\\n',\n",
       " 'This is second line\\n',\n",
       " 'This is third line\\n',\n",
       " 'This is fourth line']"
      ]
     },
     "execution_count": 12,
     "metadata": {},
     "output_type": "execute_result"
    }
   ],
   "source": [
    "file = open(\"temp.txt\", \"r\")\n",
    "file.readlines()"
   ]
  },
  {
   "cell_type": "markdown",
   "id": "c68ef7f2-3896-4b58-907d-8de0b6aa8d95",
   "metadata": {},
   "source": [
    "#### Q. No. 3. How would you handle a case where the file doesn't exist while trying to open it for reading?"
   ]
  },
  {
   "cell_type": "code",
   "execution_count": 4,
   "id": "764efa2f-0b4a-4277-925d-eba386c58b9c",
   "metadata": {},
   "outputs": [
    {
     "name": "stdout",
     "output_type": "stream",
     "text": [
      "File doesn't exists..\n",
      "Code execution completed\n"
     ]
    }
   ],
   "source": [
    "try:\n",
    "    file1 = open(\"temp1.txt\", \"r\")\n",
    "    file1.read()\n",
    "except:\n",
    "    print(\"File doesn't exists..\")\n",
    "else:\n",
    "    print(\"File open successfully..\")\n",
    "finally:\n",
    "    print(\"Code execution completed\")"
   ]
  },
  {
   "cell_type": "markdown",
   "id": "e16de2eb-4dc9-49ad-89d8-78ccf846bd01",
   "metadata": {},
   "source": [
    "#### Q. No. 4. Write a Python script that reads from one file and writes its content to another file?"
   ]
  },
  {
   "cell_type": "code",
   "execution_count": 7,
   "id": "a7809866-3351-4cf7-9fae-e7e95420c146",
   "metadata": {},
   "outputs": [
    {
     "name": "stdout",
     "output_type": "stream",
     "text": [
      "Copied Successfully...\n"
     ]
    }
   ],
   "source": [
    "try:\n",
    "    with open(\"copy.txt\", 'r') as src:\n",
    "        content = src.read()\n",
    "    with open(\"copy2.txt\", 'w') as dest:\n",
    "        dest.write(content)\n",
    "    print(\"Copied Successfully...\")\n",
    "\n",
    "except FileNotFoundError:\n",
    "    print(\"Error: The file does not exist.\")\n"
   ]
  },
  {
   "cell_type": "markdown",
   "id": "ffd8ec69-566f-4e4b-9820-33ad7ef8c828",
   "metadata": {},
   "source": [
    "#### Q. No. 5. How would you catch and handle division by zero error in Python?"
   ]
  },
  {
   "cell_type": "code",
   "execution_count": 8,
   "id": "e8642d0c-3b53-47cc-8673-d14823715373",
   "metadata": {},
   "outputs": [
    {
     "name": "stdout",
     "output_type": "stream",
     "text": [
      "Denominator can't be zero..\n"
     ]
    }
   ],
   "source": [
    "try:\n",
    "    10/0\n",
    "except ZeroDivisionError:\n",
    "    print(\"Denominator can't be zero..\")"
   ]
  },
  {
   "cell_type": "markdown",
   "id": "9800a4d8-5281-429c-a4a8-10703fcb82b2",
   "metadata": {},
   "source": [
    "#### Q. No. 6. Write a Python program that logs an error message to a log file when a division by zero exception occurs"
   ]
  },
  {
   "cell_type": "code",
   "execution_count": 14,
   "id": "7dec3eb1-2508-4439-85a8-532116e64ac5",
   "metadata": {},
   "outputs": [
    {
     "name": "stdout",
     "output_type": "stream",
     "text": [
      "Denominator can't be zero.. division by zero\n"
     ]
    }
   ],
   "source": [
    "try:\n",
    "    10/0\n",
    "except ZeroDivisionError as e:\n",
    "    print(\"Denominator can't be zero..\", e)"
   ]
  },
  {
   "cell_type": "markdown",
   "id": "3458ac02-4fb0-4b20-a463-b0bf7521aa36",
   "metadata": {},
   "source": [
    "#### Q. No. 7.  How do you log information at different levels (INFO, ERROR, WARNING) in Python using the logging module?"
   ]
  },
  {
   "cell_type": "code",
   "execution_count": 28,
   "id": "27ca4d9c-5503-43b6-92e4-56db27bc8da4",
   "metadata": {},
   "outputs": [],
   "source": [
    "with open(\"temp.txt\", \"r\") as src:\n",
    "    content = src.read()\n",
    "\n",
    "with open(\"copy.txt\", \"w\") as dest:\n",
    "    dest.write(content)"
   ]
  },
  {
   "cell_type": "markdown",
   "id": "9f4928b8-fbb2-46c3-a8f3-afbf579e405b",
   "metadata": {},
   "source": [
    "#### Q. No. 8. Write a program to handle a file opening error using exception handling?"
   ]
  },
  {
   "cell_type": "code",
   "execution_count": 31,
   "id": "75f7e660-b8e7-41cb-bb30-dc79fa24020b",
   "metadata": {},
   "outputs": [
    {
     "name": "stdout",
     "output_type": "stream",
     "text": [
      "File doesn't exits\n"
     ]
    }
   ],
   "source": [
    "try:\n",
    "    with open(\"temp1.txt\", \"r\") as src:\n",
    "        content = src.read()\n",
    "        print(content)\n",
    "except FileNotFoundError:\n",
    "    print(\"File doesn't exits\")"
   ]
  },
  {
   "cell_type": "markdown",
   "id": "838ba290-44ea-41f9-842f-b995ecd6238e",
   "metadata": {},
   "source": [
    "#### Q. No. 9. How can you read a file line by line and store its content in a list in Python?"
   ]
  },
  {
   "cell_type": "code",
   "execution_count": 38,
   "id": "069d34a6-2f65-499d-9cd1-22d29b4f8632",
   "metadata": {},
   "outputs": [
    {
     "name": "stdout",
     "output_type": "stream",
     "text": [
      "['This is temporary file\\n', 'This is second line\\n', 'This is third line\\n', 'This is fourth line']\n"
     ]
    }
   ],
   "source": [
    "content = []\n",
    "with open(\"copy.txt\", \"r\") as copied_file:\n",
    "    for line in copied_file:\n",
    "        content.append(line)\n",
    "\n",
    "print(content)"
   ]
  },
  {
   "cell_type": "markdown",
   "id": "782e8fd5-8981-4fe1-9c95-54fd67aba89b",
   "metadata": {},
   "source": [
    "#### Q. No. 10. How can you append data to an existing file in Python?"
   ]
  },
  {
   "cell_type": "code",
   "execution_count": 40,
   "id": "d95a3374-1581-4815-bc50-cd4ba7fd89c4",
   "metadata": {},
   "outputs": [
    {
     "name": "stdout",
     "output_type": "stream",
     "text": [
      "['This is temporary file\\n', 'This is second line\\n', 'This is third line\\n', 'This is fourth lineThis file is added using appendThis file is added using append']\n"
     ]
    }
   ],
   "source": [
    "with open(\"copy.txt\", 'a') as file:\n",
    "    file.write(\"This file is added using append\")\n",
    "\n",
    "with open(\"copy.txt\", 'r') as data:\n",
    "    content = data.readlines()\n",
    "    print(content)"
   ]
  },
  {
   "cell_type": "markdown",
   "id": "b0cf83be-36fa-4a51-abe8-195a13907bf5",
   "metadata": {},
   "source": [
    "#### Q. No. 11. Write a Python program that uses a try-except block to handle an error when attempting to access a dictionary key that doesn't exist "
   ]
  },
  {
   "cell_type": "code",
   "execution_count": 44,
   "id": "90544752-7f13-47e6-888f-9020ac50fa99",
   "metadata": {},
   "outputs": [
    {
     "name": "stdout",
     "output_type": "stream",
     "text": [
      "Key Doesn't exists\n"
     ]
    }
   ],
   "source": [
    "dict = {'Name' : 'Akash', 'Age' : 30}\n",
    "try:\n",
    "    dict['Names']\n",
    "except KeyError:\n",
    "    print(\"Key Doesn't exists\")"
   ]
  },
  {
   "cell_type": "markdown",
   "id": "45b540d7-7402-4b7d-8eb4-7c01926a2b0f",
   "metadata": {},
   "source": [
    "#### Q. No. 12. Write a program that demonstrates using multiple except blocks to handle different types of exceptions?"
   ]
  },
  {
   "cell_type": "code",
   "execution_count": 52,
   "id": "cd010a9b-0bc3-48e5-abd0-dda0a0d2f282",
   "metadata": {},
   "outputs": [
    {
     "name": "stdout",
     "output_type": "stream",
     "text": [
      "Error Occured : unsupported operand type(s) for /: 'int' and 'str'\n"
     ]
    }
   ],
   "source": [
    "try:\n",
    "    # 10/0\n",
    "    10/\"string\"\n",
    "except (ZeroDivisionError, TypeError) as e:\n",
    "    print(\"Error Occured :\", e)"
   ]
  },
  {
   "cell_type": "markdown",
   "id": "d5bdf257-40eb-48ba-b177-84a767b6acc6",
   "metadata": {},
   "source": [
    "#### Q. No. 13.  How would you check if a file exists before attempting to read it in Python?"
   ]
  },
  {
   "cell_type": "code",
   "execution_count": 55,
   "id": "ba62cf48-5729-484a-876c-63f738e2c49c",
   "metadata": {},
   "outputs": [
    {
     "name": "stdout",
     "output_type": "stream",
     "text": [
      "This is temporary file\n",
      "This is second line\n",
      "This is third line\n",
      "This is fourth lineThis file is added using appendThis file is added using append\n"
     ]
    }
   ],
   "source": [
    "import os\n",
    "\n",
    "if os.path.exists(\"copy.txt\"):\n",
    "    with open(\"copy.txt\", \"r\") as file:\n",
    "        content = file.read()\n",
    "        print(content)\n",
    "else:\n",
    "    print(\"File path doesn't exists\")"
   ]
  },
  {
   "cell_type": "markdown",
   "id": "9fadfa56-1d85-4da6-a3d4-2c6a48e24c1d",
   "metadata": {},
   "source": [
    "#### Q. No. 14. Write a program that uses the logging module to log both informational and error messages?"
   ]
  },
  {
   "cell_type": "code",
   "execution_count": 59,
   "id": "5b7a8a1d-b8a2-4d3c-aed2-7a244a81e55c",
   "metadata": {},
   "outputs": [],
   "source": [
    "import logging\n",
    "\n",
    "logging.basicConfig(\n",
    "    filename='app.log',\n",
    "    level=logging.INFO,\n",
    "    format='%(asctime)s - %(levelname)s - %(message)s'\n",
    ")\n",
    "\n",
    "logging.info(\"Program started successfully.\")\n",
    "\n",
    "try:\n",
    "    result = 10 / 0\n",
    "except ZeroDivisionError as e:\n",
    "    logging.error(\"An error occurred: Division by zero\")\n",
    "\n",
    "logging.info(\"Program finished executing.\")\n"
   ]
  },
  {
   "cell_type": "markdown",
   "id": "9fc12003-ec2b-46df-b7ec-24bb5cb5afd8",
   "metadata": {},
   "source": [
    "#### Q. No. 15. Write a Python program that prints the content of a file and handles the case when the file is empty?"
   ]
  },
  {
   "cell_type": "code",
   "execution_count": 63,
   "id": "24738ade-3f56-49db-b41d-b28437013bc8",
   "metadata": {},
   "outputs": [
    {
     "name": "stdout",
     "output_type": "stream",
     "text": [
      "Error: The file does not exist.\n"
     ]
    }
   ],
   "source": [
    "try:\n",
    "    with open(\"copys.txt\", 'r') as file:\n",
    "        content = file.read()\n",
    "\n",
    "        if not content:\n",
    "            print(\"The file is empty.\")\n",
    "        else:\n",
    "            print(content)\n",
    "\n",
    "except FileNotFoundError:\n",
    "    print(\"Error: The file does not exist.\")"
   ]
  },
  {
   "cell_type": "markdown",
   "id": "bfb01ab6-039c-4e98-b9cd-ac5f5635fd4d",
   "metadata": {},
   "source": [
    "#### Q. No. 16.  Demonstrate how to use memory profiling to check the memory usage of a small program?"
   ]
  },
  {
   "cell_type": "markdown",
   "id": "62744765-f4fc-4987-b88c-ced567c952c6",
   "metadata": {},
   "source": [
    "#### Q. No. 17. Write a Python program to create and write a list of numbers to a file, one number per line?"
   ]
  },
  {
   "cell_type": "code",
   "execution_count": 64,
   "id": "f068064a-fa83-4063-87de-1161e928c3a7",
   "metadata": {},
   "outputs": [
    {
     "name": "stdout",
     "output_type": "stream",
     "text": [
      "Numbers written successfully to 'numbers.txt'\n"
     ]
    }
   ],
   "source": [
    "def write_numbers_to_file(filename, numbers):\n",
    "    try:\n",
    "        with open(filename, 'w') as file:\n",
    "            for number in numbers:\n",
    "                file.write(str(number) + '\\n')\n",
    "        print(f\"Numbers written successfully to '{filename}'\")\n",
    "    except Exception as e:\n",
    "        print(f\"An error occurred: {e}\")\n",
    "\n",
    "number_list = [10, 20, 30, 40, 50]\n",
    "\n",
    "file_name = 'numbers.txt'\n",
    "\n",
    "write_numbers_to_file(file_name, number_list)\n"
   ]
  },
  {
   "cell_type": "markdown",
   "id": "0595bc7d-c36c-4082-93cb-d73c0501c95e",
   "metadata": {},
   "source": [
    "#### Q. No. 18. How would you implement a basic logging setup that logs to a file with rotation after 1MB?"
   ]
  },
  {
   "cell_type": "markdown",
   "id": "f90b3112-fa97-4d18-bf9d-a900c799c797",
   "metadata": {},
   "source": [
    "#### Q. No. 19. Write a program that handles both IndexError and KeyError using a try-except block?"
   ]
  },
  {
   "cell_type": "code",
   "execution_count": 11,
   "id": "dca34cf0-c170-4d3d-b5dc-dd3d9648bb3f",
   "metadata": {},
   "outputs": [
    {
     "name": "stdout",
     "output_type": "stream",
     "text": [
      "Item in list: 6\n",
      "Key Error Occured : 'Salary'\n"
     ]
    }
   ],
   "source": [
    "lst = [2,4,6,8]\n",
    "dict = {\"Name\" : \"Akash\", \"Age\" : 29}\n",
    "\n",
    "try:\n",
    "    print(\"Item in list:\", lst[2])\n",
    "    print(\"Value in Dict :\", dict[\"Salary\"])\n",
    "\n",
    "except IndexError as ie:\n",
    "    print(\"Index Error Occured :\", ie)\n",
    "\n",
    "except KeyError as ke:\n",
    "    print(\"Key Error Occured :\", ke)"
   ]
  },
  {
   "cell_type": "markdown",
   "id": "01d72d81-f363-406d-944c-78a9109699be",
   "metadata": {},
   "source": [
    "#### Q. No. 20.  How would you open a file and read its contents using a context manager in Python?"
   ]
  },
  {
   "cell_type": "code",
   "execution_count": 13,
   "id": "c634479a-0ca4-493d-8e9c-ac90b5ff0cef",
   "metadata": {},
   "outputs": [
    {
     "name": "stdout",
     "output_type": "stream",
     "text": [
      "The file 'example.txt' was not found.\n"
     ]
    }
   ],
   "source": [
    "file_path = 'example.txt'\n",
    "\n",
    "try:\n",
    "    with open(file_path, 'r') as file:\n",
    "        contents = file.read()\n",
    "        print(\"File contents:\")\n",
    "        print(contents)\n",
    "except FileNotFoundError:\n",
    "    print(f\"The file '{file_path}' was not found.\")\n",
    "except IOError as e:\n",
    "    print(f\"An I/O error occurred: {e}\")"
   ]
  },
  {
   "cell_type": "markdown",
   "id": "e6274a38-093c-4e82-bba7-9c6d0cfc0ccf",
   "metadata": {},
   "source": [
    "#### Q. No. 21. Write a Python program that reads a file and prints the number of occurrences of a specific word?"
   ]
  },
  {
   "cell_type": "code",
   "execution_count": 16,
   "id": "160dca46-1aaf-48d3-ad7a-e2ad4c4481bc",
   "metadata": {},
   "outputs": [
    {
     "name": "stdout",
     "output_type": "stream",
     "text": [
      "The word 'this' occurred 4 times in the file.\n"
     ]
    }
   ],
   "source": [
    "def count_word_occurrences(file_path, target_word):\n",
    "    try:\n",
    "        with open(file_path, 'r') as file:\n",
    "            content = file.read().lower()\n",
    "            word_list = content.split()\n",
    "            count = word_list.count(target_word.lower())\n",
    "            print(f\"The word '{target_word}' occurred {count} times in the file.\")\n",
    "    except FileNotFoundError:\n",
    "        print(f\"The file '{file_path}' was not found.\")\n",
    "    except IOError as e:\n",
    "        print(f\"An I/O error occurred: {e}\")\n",
    "\n",
    "file_path = 'copy.txt'\n",
    "target_word = 'this'\n",
    "count_word_occurrences(file_path, target_word)\n"
   ]
  },
  {
   "cell_type": "markdown",
   "id": "ad03db81-aaaf-401b-a494-eb4aebbbc082",
   "metadata": {},
   "source": [
    "#### Q. No. 22.  How can you check if a file is empty before attempting to read its contents?"
   ]
  },
  {
   "cell_type": "code",
   "execution_count": 18,
   "id": "4f8dfecd-2d74-4296-a6b7-e8a7850a4263",
   "metadata": {},
   "outputs": [
    {
     "name": "stdout",
     "output_type": "stream",
     "text": [
      "This is temporary file\n",
      "This is second line\n",
      "This is third line\n",
      "This is fourth lineThis file is added using appendThis file is added using append\n"
     ]
    }
   ],
   "source": [
    "try:\n",
    "    with open(\"copy.txt\", 'r') as file:\n",
    "        content = file.read()\n",
    "\n",
    "        if not content:\n",
    "            print(\"The file is empty.\")\n",
    "        else:\n",
    "            print(content)\n",
    "\n",
    "except FileNotFoundError:\n",
    "    print(\"Error: The file does not exist.\")"
   ]
  },
  {
   "cell_type": "markdown",
   "id": "d950f240-a5a6-4147-a73d-d1a44102b4e5",
   "metadata": {},
   "source": [
    "#### Q. No. 23. Write a Python program that writes to a log file when an error occurs during file handling."
   ]
  },
  {
   "cell_type": "code",
   "execution_count": 21,
   "id": "9eaf03ec-4f46-433d-8cd3-afd2e7562db3",
   "metadata": {},
   "outputs": [
    {
     "name": "stdout",
     "output_type": "stream",
     "text": [
      "An error occurred. Check 'error_log.txt' for details.\n"
     ]
    }
   ],
   "source": [
    "import logging\n",
    "\n",
    "logging.basicConfig(\n",
    "    filename='error_log.txt',        \n",
    "    level=logging.ERROR,             \n",
    "    format='%(asctime)s - %(levelname)s - %(message)s'\n",
    ")\n",
    "\n",
    "def read_file(file_path):\n",
    "    try:\n",
    "        with open(file_path, 'r') as file:\n",
    "            content = file.read()\n",
    "            print(\"File contents:\")\n",
    "            print(content)\n",
    "    except Exception as e:\n",
    "        logging.error(f\"Error occurred while reading file '{file_path}': {e}\")\n",
    "        print(f\"An error occurred. Check 'error_log.txt' for details.\")\n",
    "\n",
    "read_file('non_existent_file.txt')\n"
   ]
  },
  {
   "cell_type": "code",
   "execution_count": null,
   "id": "234e818d-6b74-4462-8638-19679c6554d9",
   "metadata": {},
   "outputs": [],
   "source": []
  }
 ],
 "metadata": {
  "kernelspec": {
   "display_name": "Python 3 (ipykernel)",
   "language": "python",
   "name": "python3"
  },
  "language_info": {
   "codemirror_mode": {
    "name": "ipython",
    "version": 3
   },
   "file_extension": ".py",
   "mimetype": "text/x-python",
   "name": "python",
   "nbconvert_exporter": "python",
   "pygments_lexer": "ipython3",
   "version": "3.13.5"
  }
 },
 "nbformat": 4,
 "nbformat_minor": 5
}
